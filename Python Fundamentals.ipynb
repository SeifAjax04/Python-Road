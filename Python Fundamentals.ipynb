{
 "cells": [
  {
   "cell_type": "code",
   "execution_count": null,
   "id": "ddc785cc-054d-4bbc-828e-045281491dc4",
   "metadata": {},
   "outputs": [],
   "source": [
    "#Data Type Fundamentals\n",
    "int #Numeric Types\n",
    "float #Numeric Types\n",
    "complex #Numeric Types\n",
    "str #Text Type\n",
    "list #Sequence Types\n",
    "tuple #Sequence Types\n",
    "range #Sequence Types\n",
    "set #Set Types\n",
    "frozenset #Set Types\n",
    "dict #Mapping Type\n",
    "bool #Boolean Type\n",
    "bytes #Binary Types\n",
    "bytearray #Binary Types\n",
    "memoryview #Binary Types\n",
    "NoneType #None Type"
   ]
  },
  {
   "cell_type": "code",
   "execution_count": null,
   "id": "bf2665bc-df5a-4356-8660-fb1fb231ae85",
   "metadata": {},
   "outputs": [],
   "source": [
    "x = str(3)    # x will be '3'\n",
    "y = int(3)    # y will be 3\n",
    "z = float(3)  # z will be 3.0 "
   ]
  },
  {
   "cell_type": "code",
   "execution_count": null,
   "id": "0a6baee4-87d3-40a4-9582-ddb1ea2afeff",
   "metadata": {},
   "outputs": [],
   "source": []
  }
 ],
 "metadata": {
  "kernelspec": {
   "display_name": "Python 3 (ipykernel)",
   "language": "python",
   "name": "python3"
  },
  "language_info": {
   "codemirror_mode": {
    "name": "ipython",
    "version": 3
   },
   "file_extension": ".py",
   "mimetype": "text/x-python",
   "name": "python",
   "nbconvert_exporter": "python",
   "pygments_lexer": "ipython3",
   "version": "3.11.5"
  }
 },
 "nbformat": 4,
 "nbformat_minor": 5
}
