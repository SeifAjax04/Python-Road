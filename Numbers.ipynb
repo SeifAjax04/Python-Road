{
 "cells": [
  {
   "cell_type": "code",
   "execution_count": 4,
   "id": "753ff70b-6647-45dd-903c-f98f6d9c7d27",
   "metadata": {},
   "outputs": [
    {
     "name": "stdout",
     "output_type": "stream",
     "text": [
      "6\n",
      "-2\n",
      "8\n",
      "0.5\n",
      "<class 'int'>\n",
      "<class 'float'>\n",
      "<class 'float'>\n",
      "8\n",
      "<class 'float'>\n",
      "0\n",
      "8\n",
      "1\n",
      "10\n",
      "3\n",
      "4\n",
      "3\n"
     ]
    }
   ],
   "source": [
    "#Data Type intger (Numbers)\n",
    "#Integr and Float\n",
    "print(2 + 4)\n",
    "print(2 - 4)\n",
    "print(2 * 4)\n",
    "print(2 / 4)\n",
    "print(type(2 + 5))\n",
    "print(type(6 / 4))\n",
    "print(type(0.001))\n",
    "print(2 * 4)\n",
    "print(type(9.1+1.1))\n",
    "print(2 // 4)\n",
    "print(2 ** 3)\n",
    "print(5 % 4) #The % operator in Python is called the modulo operator. It returns the remainder of the division operation between the two operands.\n",
    "print(100 % 90)\n",
    "\n",
    "#Math Funcations\n",
    "print(round(3.1))\n",
    "print(round(3.9)) #التقريب\n",
    "print(abs(-3)) #ارجاع الرقم لأصله"
   ]
  },
  {
   "cell_type": "code",
   "execution_count": 10,
   "id": "35c065a9-8992-4825-8765-0f091250e2aa",
   "metadata": {},
   "outputs": [
    {
     "name": "stdout",
     "output_type": "stream",
     "text": [
      "21\n",
      "45.0\n",
      "45.0\n",
      "25\n"
     ]
    }
   ],
   "source": [
    "# Operator Precedence - يتم احتسابه حسب الاولوية التالية\n",
    "# ()\n",
    "# **\n",
    "# * /\n",
    "# + -\n",
    "print((20 - 3) + 2 ** 2)\n",
    "print((5 + 4) * 10 / 2)\n",
    "print(((5 + 4) * 10) / 2)\n",
    "print(5 + 4 * 10 // 2)"
   ]
  },
  {
   "cell_type": "code",
   "execution_count": 17,
   "id": "5752b4b8-d37a-4275-92bf-fdeb5a05e4c6",
   "metadata": {},
   "outputs": [
    {
     "name": "stdout",
     "output_type": "stream",
     "text": [
      "age = 21\n",
      "age = 21.6\n"
     ]
    }
   ],
   "source": [
    "# Python int() Function\n",
    "\n",
    "age = \"21\"\n",
    "print(\"age =\", int(age))\n",
    "\n",
    "age = \"21.6\"\n",
    "print(\"age =\", float(age))\n",
    "\n"
   ]
  },
  {
   "cell_type": "code",
   "execution_count": 18,
   "id": "16392985-0435-4e56-b16c-1db8a5621c52",
   "metadata": {},
   "outputs": [
    {
     "name": "stdout",
     "output_type": "stream",
     "text": [
      "0b101\n"
     ]
    }
   ],
   "source": [
    "print(bin(5))"
   ]
  },
  {
   "cell_type": "code",
   "execution_count": 19,
   "id": "05821c9a-915f-4b90-a137-44bb738a8fea",
   "metadata": {},
   "outputs": [
    {
     "name": "stdout",
     "output_type": "stream",
     "text": [
      "0b110\n"
     ]
    }
   ],
   "source": [
    "print(bin(6))"
   ]
  },
  {
   "cell_type": "code",
   "execution_count": 20,
   "id": "4e027b45-aa24-4529-a7c6-773f01a8b2fc",
   "metadata": {},
   "outputs": [
    {
     "name": "stdout",
     "output_type": "stream",
     "text": [
      "6\n"
     ]
    }
   ],
   "source": [
    "print(int('0b110', 2))"
   ]
  },
  {
   "cell_type": "code",
   "execution_count": 29,
   "id": "44cec49a-1d14-4661-a640-084d8884783c",
   "metadata": {},
   "outputs": [
    {
     "name": "stdout",
     "output_type": "stream",
     "text": [
      "4\n"
     ]
    }
   ],
   "source": [
    "#  Augmented Assignment Operator\n",
    "some_value = 5\n",
    "some_value += 2\n",
    "some_value -=3\n",
    "print(some_value)"
   ]
  },
  {
   "cell_type": "code",
   "execution_count": 30,
   "id": "c2282e4e-105f-4d21-a20b-51fb34ad7046",
   "metadata": {},
   "outputs": [
    {
     "name": "stdout",
     "output_type": "stream",
     "text": [
      "6\n"
     ]
    }
   ],
   "source": [
    "# Exercise Augmented Assignment Operator\n",
    "# Guess what happens here before you click RUN!\n",
    "counter = 0\n",
    "\n",
    "counter += 1\n",
    "counter += 1\n",
    "counter += 1\n",
    "counter += 1\n",
    "counter -= 1\n",
    "counter *= 2\n",
    "\n",
    "print(counter) #what will this print?"
   ]
  },
  {
   "cell_type": "code",
   "execution_count": null,
   "id": "c1e432c9-8cdd-4933-a00d-ba11d216d59f",
   "metadata": {},
   "outputs": [],
   "source": []
  }
 ],
 "metadata": {
  "kernelspec": {
   "display_name": "Python 3 (ipykernel)",
   "language": "python",
   "name": "python3"
  },
  "language_info": {
   "codemirror_mode": {
    "name": "ipython",
    "version": 3
   },
   "file_extension": ".py",
   "mimetype": "text/x-python",
   "name": "python",
   "nbconvert_exporter": "python",
   "pygments_lexer": "ipython3",
   "version": "3.11.5"
  }
 },
 "nbformat": 4,
 "nbformat_minor": 5
}
