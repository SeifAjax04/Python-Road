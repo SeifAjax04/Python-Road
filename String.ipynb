{
 "cells": [
  {
   "cell_type": "code",
   "execution_count": 1,
   "id": "38ca22f4-5d5b-4b94-90e5-c29557c28496",
   "metadata": {},
   "outputs": [
    {
     "name": "stdout",
     "output_type": "stream",
     "text": [
      "hello\n",
      "Seif Khaled\n"
     ]
    },
    {
     "name": "stdout",
     "output_type": "stream",
     "text": [
      "What is your name? seif\n"
     ]
    },
    {
     "name": "stdout",
     "output_type": "stream",
     "text": [
      "Hello seif\n"
     ]
    }
   ],
   "source": [
    "print(\"hello\") #Just Print one word\n",
    "print('Seif Khaled') #Just Print one word\n",
    "name = input('What is your name?') #Input is a function that asks the user to enter something\n",
    "print('Hello ' + name) #Print Hello + Name"
   ]
  },
  {
   "cell_type": "code",
   "execution_count": 3,
   "id": "101dc8bd-b3ec-48b6-b51f-ea866406f616",
   "metadata": {},
   "outputs": [
    {
     "name": "stdout",
     "output_type": "stream",
     "text": [
      "Seif Khaled\n",
      "\n",
      "\n"
     ]
    }
   ],
   "source": [
    "first_name = 'Seif'\n",
    "last_name = 'Khaled'\n",
    "full_name = first_name + ' ' + last_name\n",
    "print(full_name)\n",
    "print(\"\\n\")"
   ]
  },
  {
   "cell_type": "code",
   "execution_count": 4,
   "id": "197f2111-d10c-4df8-8da8-d223c00ac454",
   "metadata": {},
   "outputs": [
    {
     "name": "stdout",
     "output_type": "stream",
     "text": [
      "Seif Khaled\n"
     ]
    }
   ],
   "source": [
    "first_name = 'Seif'\n",
    "last_name = 'Khaled'\n",
    "full_name = first_name + ' ' + last_name\n",
    "print(full_name)"
   ]
  },
  {
   "cell_type": "code",
   "execution_count": 6,
   "id": "a65b6645-d637-4a71-9e76-c44b29c2a602",
   "metadata": {},
   "outputs": [
    {
     "name": "stdout",
     "output_type": "stream",
     "text": [
      "<class 'str'>\n",
      "\n",
      "WOW\n",
      "o_o\n",
      "___\n",
      "\n"
     ]
    }
   ],
   "source": [
    "print(type('Hi Hello there!'))\n",
    "username = 'SuperCoder'\n",
    "password = \"SuperSecret\"\n",
    "long_string = '''\n",
    "WOW\n",
    "o_o\n",
    "___\n",
    "'''\n",
    "print(long_string)"
   ]
  },
  {
   "cell_type": "code",
   "execution_count": 7,
   "id": "308cbdbd-93e8-4301-a2a0-84aafafd5c43",
   "metadata": {},
   "outputs": [
    {
     "name": "stdout",
     "output_type": "stream",
     "text": [
      "hello Nitesh\n",
      "hello 5\n",
      "\n",
      "\n"
     ]
    }
   ],
   "source": [
    "# String Concatenation\n",
    "print('hello' + ' Nitesh')\n",
    "print('hello ' + str(5))\n",
    "print(\"\\n\")"
   ]
  },
  {
   "cell_type": "code",
   "execution_count": 20,
   "id": "0be283e4-a157-4d4f-95a3-9294bea154ec",
   "metadata": {},
   "outputs": [
    {
     "name": "stdout",
     "output_type": "stream",
     "text": [
      "hello 4\n",
      "hello 4\n",
      "<class 'int'>\n"
     ]
    }
   ],
   "source": [
    "print('hello ' + str(4))\n",
    "print('hello' + ' ' + str(4))\n",
    "print(type(int(str(100))))"
   ]
  },
  {
   "cell_type": "code",
   "execution_count": 22,
   "id": "05248cb2-854f-4125-a947-8ae0a39ed1a3",
   "metadata": {},
   "outputs": [
    {
     "name": "stdout",
     "output_type": "stream",
     "text": [
      "<class 'int'>\n"
     ]
    }
   ],
   "source": [
    "# Type Conversion\n",
    "a = str(100)\n",
    "b = int(a)\n",
    "c = type(b)\n",
    "print(c)"
   ]
  },
  {
   "cell_type": "code",
   "execution_count": 31,
   "id": "a01bac12-286e-44e9-9f7e-323497ac48ed",
   "metadata": {},
   "outputs": [
    {
     "name": "stdout",
     "output_type": "stream",
     "text": [
      "\t It's \"kind of\" sunny \n",
      " Hope you have a good day!\n",
      "It's sunny \n",
      " Hope you have a good day!\n",
      "It's sunny Hope you have a good day!\n"
     ]
    }
   ],
   "source": [
    "# Escape Sequences\n",
    "weather = \"\\t It\\'s \\\"kind of\\\" sunny \\n Hope you have a good day!\"\n",
    "print(weather)\n",
    "\n",
    "weather = \"It\\'s sunny \\n Hope you have a good day!\"\n",
    "print(weather)\n",
    "\n",
    "weather = \"It\\'s sunny Hope you have a good day!\"\n",
    "print(weather)"
   ]
  },
  {
   "cell_type": "code",
   "execution_count": 7,
   "id": "09ff5513-8ccf-49de-a702-3a28ec201a45",
   "metadata": {},
   "outputs": [
    {
     "name": "stdout",
     "output_type": "stream",
     "text": [
      "Seif Khaled\n"
     ]
    }
   ],
   "source": [
    "first_name = 'Seif'\n",
    "last_name = 'Khaled'\n",
    "full_name = first_name + ' ' + last_name\n",
    "print(full_name)\n"
   ]
  },
  {
   "cell_type": "code",
   "execution_count": 14,
   "id": "bb2e474b-5fb9-4b3e-b488-43dc3dc183ac",
   "metadata": {},
   "outputs": [
    {
     "name": "stdout",
     "output_type": "stream",
     "text": [
      "hi Seif. you are 34 years old\n",
      "Hi Seif you are 34 years old\n"
     ]
    }
   ],
   "source": [
    "# formated string\n",
    "name = 'Seif'\n",
    "age = '34'\n",
    "print(f'hi {name}. you are {age} years old')\n",
    "print('Hi ' + name + ' you are ' + str(age) + ' years old')"
   ]
  },
  {
   "cell_type": "code",
   "execution_count": 2,
   "id": "62c1f8df-de09-4369-a0dc-831c0772a805",
   "metadata": {},
   "outputs": [
    {
     "name": "stdout",
     "output_type": "stream",
     "text": [
      "Hi Ajax. welcome to Berlin, you are 35 years old\n",
      "Hi Seif. welcome to Amesterdam, you are 35 years old\n",
      "Hi Seif welcome to Berlin, you are 35 years old\n",
      "Hi Younis. Welcome to Italy, you are 1 years old\n"
     ]
    }
   ],
   "source": [
    "# formated string\n",
    "\n",
    "name = 'Seif'\n",
    "age = 35\n",
    "print('Hi {}. welcome to Berlin, you are {} years old'.format('Ajax', '35'))\n",
    "print('Hi {}. welcome to Amesterdam, you are {} years old'.format(name, age))\n",
    "print(f'Hi {name} welcome to Berlin, you are {age} years old')\n",
    "print('Hi {new_name}. Welcome to Italy, you are {age} years old'.format(new_name='Younis', age=1))"
   ]
  },
  {
   "cell_type": "code",
   "execution_count": 19,
   "id": "d220f513",
   "metadata": {},
   "outputs": [
    {
     "name": "stdout",
     "output_type": "stream",
     "text": [
      "3456\n",
      "147\n",
      "123456789\n",
      "123456789\n",
      "12345\n",
      "123456\n",
      " am\n",
      " am PYHTON\n",
      "I am\n"
     ]
    }
   ],
   "source": [
    "#String Indexes\n",
    "\n",
    "selfish = '12345678'\n",
    "print(selfish[2:6]) #Start and Stop\n",
    "\n",
    "Books = '123456789'\n",
    "print(Books[0:7:3]) #[Start:Stop:Stepover]\n",
    "print(Books[::1]) #The output will be the entire string '123456789', because it's effectively saying \"start from the beginning, end at the end, and take every character along the way.\"\n",
    "\n",
    "Books = '123456789'\n",
    "print(Books[0:]) #Go to the end\n",
    "\n",
    "Books = '123456789'\n",
    "print(Books[:5]) #Go to 5\n",
    "\n",
    "Books = '123456789'\n",
    "print(Books[:-3]) #It includes all characters from the beginning up to, but not including, the last 3 characters.\n",
    "\n",
    "#Guess the output of each print statement before you click RUN!\n",
    "python = 'I am PYHTON'\n",
    "#I am PYHTON\n",
    "#01234567891011\n",
    "\n",
    "print(python[1:4])\n",
    "print(python[1:])\n",
    "print(python[0:4])\n"
   ]
  }
 ],
 "metadata": {
  "kernelspec": {
   "display_name": "Python 3 (ipykernel)",
   "language": "python",
   "name": "python3"
  },
  "language_info": {
   "codemirror_mode": {
    "name": "ipython",
    "version": 3
   },
   "file_extension": ".py",
   "mimetype": "text/x-python",
   "name": "python",
   "nbconvert_exporter": "python",
   "pygments_lexer": "ipython3",
   "version": "3.8.9"
  }
 },
 "nbformat": 4,
 "nbformat_minor": 5
}
