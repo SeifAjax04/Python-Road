{
 "cells": [
  {
   "cell_type": "code",
   "execution_count": 3,
   "metadata": {},
   "outputs": [
    {
     "name": "stdout",
     "output_type": "stream",
     "text": [
      "mobile\n"
     ]
    }
   ],
   "source": [
    "list = [1, 2, 3, 4, 5, 6]\n",
    "list2 = ['A', 'B', 'C', 'E']\n",
    "list3 = [1, 2, 3, 'a', 'b', True]\n",
    "\n",
    "amazon_cart = ['notebook', 'laptops', 'mobile']\n",
    "print(amazon_cart[2])"
   ]
  },
  {
   "cell_type": "code",
   "execution_count": 7,
   "metadata": {},
   "outputs": [
    {
     "name": "stdout",
     "output_type": "stream",
     "text": [
      "['notebook', 'toys']\n"
     ]
    }
   ],
   "source": [
    "# List Slicing\n",
    "\n",
    "amazon_cart = ['notebook',\n",
    "               'mobile',\n",
    "               'toys',\n",
    "               'laptop'\n",
    "]\n",
    "print(amazon_cart[0::2])"
   ]
  },
  {
   "cell_type": "code",
   "execution_count": 8,
   "metadata": {},
   "outputs": [
    {
     "name": "stdout",
     "output_type": "stream",
     "text": [
      "Matrix = [[1, 2, 3, 4], [5, 6, 7, 8], [9, 10, 11, 12]]\n"
     ]
    }
   ],
   "source": [
    "matrix = [[1, 2, 3, 4], \n",
    "\t[5, 6, 7, 8],\n",
    "\t[9, 10, 11, 12]]\n",
    "\n",
    "print(\"Matrix =\", matrix)"
   ]
  },
  {
   "cell_type": "code",
   "execution_count": 9,
   "metadata": {},
   "outputs": [
    {
     "name": "stdout",
     "output_type": "stream",
     "text": [
      "[1, 2, 3, 4, 5, 100, 2000, 2003]\n"
     ]
    }
   ],
   "source": [
    "# List Methods\n",
    "basket = [1,2,3,4,5]\n",
    "new_list = basket.append(100) #adding\n",
    "list_new = basket.insert(3,60) #adding\n",
    "new_one = basket.extend([2000, 2003, 2005]) #adding\n",
    "remove_one = basket.pop() #remove last object\n",
    "remove_two = basket.pop(3) #remove specified position\n",
    "print(basket)"
   ]
  }
 ],
 "metadata": {
  "kernelspec": {
   "display_name": "Python 3",
   "language": "python",
   "name": "python3"
  },
  "language_info": {
   "codemirror_mode": {
    "name": "ipython",
    "version": 3
   },
   "file_extension": ".py",
   "mimetype": "text/x-python",
   "name": "python",
   "nbconvert_exporter": "python",
   "pygments_lexer": "ipython3",
   "version": "3.8.9"
  }
 },
 "nbformat": 4,
 "nbformat_minor": 2
}
