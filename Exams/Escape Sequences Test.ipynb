{
 "cells": [
  {
   "cell_type": "code",
   "execution_count": 6,
   "metadata": {},
   "outputs": [
    {
     "name": "stdout",
     "output_type": "stream",
     "text": [
      "This \n",
      " is a new line.\n",
      "Tab line \t is a tab.\n",
      "This \" is a double quote.\n",
      "This \\ is a backslash.\n",
      "Hello\n"
     ]
    }
   ],
   "source": [
    "#Test on Escape Sequences (1)\n",
    "\n",
    "print('This \\n is a new line.')\n",
    "print('Tab line \\t is a tab.')\n",
    "print('This \\\" is a double quote.')\n",
    "print('This \\\\ is a backslash.')\n",
    "print('\\x48\\x65\\x6c\\x6c\\x6f') "
   ]
  },
  {
   "cell_type": "code",
   "execution_count": null,
   "metadata": {},
   "outputs": [],
   "source": []
  }
 ],
 "metadata": {
  "kernelspec": {
   "display_name": "Python 3",
   "language": "python",
   "name": "python3"
  },
  "language_info": {
   "codemirror_mode": {
    "name": "ipython",
    "version": 3
   },
   "file_extension": ".py",
   "mimetype": "text/x-python",
   "name": "python",
   "nbconvert_exporter": "python",
   "pygments_lexer": "ipython3",
   "version": "3.8.9"
  }
 },
 "nbformat": 4,
 "nbformat_minor": 2
}
