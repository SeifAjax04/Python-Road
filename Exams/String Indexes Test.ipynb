{
 "cells": [
  {
   "cell_type": "code",
   "execution_count": 1,
   "metadata": {},
   "outputs": [
    {
     "name": "stdout",
     "output_type": "stream",
     "text": [
      " am\n",
      "I am\n",
      " am PYHTON\n",
      "I am PYHTON\n",
      " am PYHTON\n",
      "N\n",
      "H\n",
      "I am PYH\n",
      "TON\n",
      "NOTHYP ma I\n",
      "NTY aI\n"
     ]
    }
   ],
   "source": [
    "#Test on String Indexes (1)\n",
    "\n",
    "#Guess the output of each print statement before you click RUN!\n",
    "python = 'I am PYHTON'\n",
    "#I am PYHTON\n",
    "#01234567891011\n",
    "\n",
    "print(python[1:4]) #am\n",
    "print(python[0:4]) #I am\n",
    "print(python[1:]) #am PYTHON\n",
    "print(python[:]) #I am PYTHON\n",
    "print(python[1:100]) #am PYTHON\n",
    "print(python[-1]) #NOHTYP ma I\n",
    "print(python[-4]) #Y\n",
    "print(python[:-3]) #I am PYH\n",
    "print(python[-3:]) #THON\n",
    "print(python[::-1]) #NOTHYP ma I\n",
    "print(python[::-2]) #NTY mI"
   ]
  },
  {
   "cell_type": "code",
   "execution_count": 1,
   "metadata": {},
   "outputs": [
    {
     "name": "stdout",
     "output_type": "stream",
     "text": [
      "d\n",
      "olleh\n",
      "gnimmargorp\n",
      "th\n",
      "e\n"
     ]
    }
   ],
   "source": [
    "#Test on String Indexes (2)\n",
    "#Guess the output of each print statement before you click RUN!\n",
    "\n",
    "print(\"world\"[-1])\n",
    "print(\"hello\"[::-1])\n",
    "print(\"programming\"[::-1])\n",
    "print(\"python\"[2:4])\n",
    "print(\"hello\"[1])\n"
   ]
  },
  {
   "cell_type": "code",
   "execution_count": 3,
   "metadata": {},
   "outputs": [
    {
     "name": "stdout",
     "output_type": "stream",
     "text": [
      "eybdoog\n",
      "wor\n",
      "llo\n",
      "ramm\n",
      "p\n"
     ]
    }
   ],
   "source": [
    "#Test on String Indexes (3)\n",
    "#Guess the output of each print statement before you click RUN!\n",
    "\n",
    "print(\"goodbye\"[::-1])\n",
    "print(\"world\"[:3])\n",
    "print(\"hello\"[2:])\n",
    "print(\"programming\"[4:8])\n",
    "print(\"python\"[0])\n"
   ]
  }
 ],
 "metadata": {
  "kernelspec": {
   "display_name": "Python 3",
   "language": "python",
   "name": "python3"
  },
  "language_info": {
   "codemirror_mode": {
    "name": "ipython",
    "version": 3
   },
   "file_extension": ".py",
   "mimetype": "text/x-python",
   "name": "python",
   "nbconvert_exporter": "python",
   "pygments_lexer": "ipython3",
   "version": "3.8.9"
  }
 },
 "nbformat": 4,
 "nbformat_minor": 2
}
