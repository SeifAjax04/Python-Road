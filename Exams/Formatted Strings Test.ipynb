{
 "cells": [
  {
   "cell_type": "code",
   "execution_count": 10,
   "metadata": {},
   "outputs": [
    {
     "name": "stdout",
     "output_type": "stream",
     "text": [
      "Hi Seif. Welcome to Berlin. You are 35 years old\n",
      "Hi Seif Welcome to Roma. You are 35 years old. Thank you.\n",
      "Hi Ajax. Welcome to Amesterdam. You are 35 years old. Thank you.\n",
      "Hi Younis Welcome to Groningen. you are 1 years old. Thanks for your visit.\n"
     ]
    }
   ],
   "source": [
    "#Test on Formatted Strings (1)\n",
    "\n",
    "name = 'Seif'\n",
    "age = 35\n",
    "\n",
    "print('Hi {}. Welcome to Berlin. You are {} years old'.format(name,age))\n",
    "print(f'Hi {name} Welcome to Roma. You are {age} years old. Thank you.')\n",
    "print('Hi {}. Welcome to Amesterdam. You are {} years old. Thank you.'.format('Ajax','35'))\n",
    "print('Hi {new_name} Welcome to Groningen. you are {new_age} years old. Thanks for your visit.'.format(new_name= 'Younis', new_age= 1))\n"
   ]
  },
  {
   "cell_type": "code",
   "execution_count": null,
   "metadata": {},
   "outputs": [],
   "source": []
  }
 ],
 "metadata": {
  "kernelspec": {
   "display_name": "Python 3",
   "language": "python",
   "name": "python3"
  },
  "language_info": {
   "codemirror_mode": {
    "name": "ipython",
    "version": 3
   },
   "file_extension": ".py",
   "mimetype": "text/x-python",
   "name": "python",
   "nbconvert_exporter": "python",
   "pygments_lexer": "ipython3",
   "version": "3.8.9"
  }
 },
 "nbformat": 4,
 "nbformat_minor": 2
}
