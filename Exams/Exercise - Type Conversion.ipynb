{
 "cells": [
  {
   "cell_type": "code",
   "execution_count": 2,
   "metadata": {},
   "outputs": [
    {
     "name": "stdout",
     "output_type": "stream",
     "text": [
      "Married\n"
     ]
    }
   ],
   "source": [
    "Name = 'Seif'\n",
    "Age = 35\n",
    "\n",
    "Relationship_Status = 'Single'\n",
    "Relationship_Status = 'Married'\n",
    "\n",
    "print(Relationship_Status)"
   ]
  },
  {
   "cell_type": "code",
   "execution_count": 8,
   "metadata": {},
   "outputs": [
    {
     "name": "stdout",
     "output_type": "stream",
     "text": [
      "Your age is 35 years old\n"
     ]
    }
   ],
   "source": [
    "# Age estimation App\n",
    "birth_year = input('What year were you born? ')\n",
    "\n",
    "Age = 2024 - int(birth_year)\n",
    "print(f'Your age is {Age} years old')"
   ]
  },
  {
   "cell_type": "code",
   "execution_count": 11,
   "metadata": {},
   "outputs": [
    {
     "name": "stdout",
     "output_type": "stream",
     "text": [
      "Your age is 35.0 years old\n"
     ]
    }
   ],
   "source": [
    "# Age estimation App\n",
    "birth_year = input('What year were you born? ')\n",
    "\n",
    "Age = 2024 - float(birth_year)\n",
    "print(f'Your age is {Age} years old')"
   ]
  }
 ],
 "metadata": {
  "kernelspec": {
   "display_name": "Python 3",
   "language": "python",
   "name": "python3"
  },
  "language_info": {
   "codemirror_mode": {
    "name": "ipython",
    "version": 3
   },
   "file_extension": ".py",
   "mimetype": "text/x-python",
   "name": "python",
   "nbconvert_exporter": "python",
   "pygments_lexer": "ipython3",
   "version": "3.8.9"
  }
 },
 "nbformat": 4,
 "nbformat_minor": 2
}
