{
 "cells": [
  {
   "cell_type": "code",
   "execution_count": 1,
   "metadata": {},
   "outputs": [
    {
     "name": "stdout",
     "output_type": "stream",
     "text": [
      "3\n",
      "4\n"
     ]
    }
   ],
   "source": [
    "# Built- in Funcation (Round)\n",
    "\n",
    "print(round(3.1))\n",
    "print(round(3.9)) #التقريب\n"
   ]
  },
  {
   "cell_type": "code",
   "execution_count": 4,
   "metadata": {},
   "outputs": [
    {
     "name": "stdout",
     "output_type": "stream",
     "text": [
      "3\n"
     ]
    }
   ],
   "source": [
    "# Built- in Funcation (Abs)\n",
    "\n",
    "print(abs(-3)) #ارجاع الرقم لأصله\n"
   ]
  },
  {
   "cell_type": "code",
   "execution_count": 6,
   "metadata": {},
   "outputs": [
    {
     "name": "stdout",
     "output_type": "stream",
     "text": [
      "12\n"
     ]
    }
   ],
   "source": [
    "# Built- in Funcation (Len)\n",
    "\n",
    "print(len('helllllllllo')) #الحجم"
   ]
  },
  {
   "cell_type": "code",
   "execution_count": 14,
   "metadata": {},
   "outputs": [
    {
     "name": "stdout",
     "output_type": "stream",
     "text": [
      "ELEVEN SQUARE IS AN PLATFORM FOR FOOTBALL SCOUTING.\n",
      "eleven square is an platform for football scouting.\n",
      "Eleven square is an platform for football scouting.\n",
      "7\n",
      "Eleven Square is an plattom to football scouting.\n"
     ]
    }
   ],
   "source": [
    "#Python String Methods - (Upper - Captitalize - Lower - Find - Replace)\n",
    "\n",
    "Eleven_Square= 'Eleven Square is an platform for football scouting.' \n",
    "print(Eleven_Square.upper()) #Converts a string into upper case\n",
    "print(Eleven_Square.lower()) #Converts a string into lower case\n",
    "print(Eleven_Square.capitalize()) #Converts the first character to upper case\n",
    "print(Eleven_Square.find('Square')) #Searches the string for a specified value and returns the position of where it was found\n",
    "print(Eleven_Square.replace('for', 'to'))"
   ]
  }
 ],
 "metadata": {
  "kernelspec": {
   "display_name": "Python 3",
   "language": "python",
   "name": "python3"
  },
  "language_info": {
   "codemirror_mode": {
    "name": "ipython",
    "version": 3
   },
   "file_extension": ".py",
   "mimetype": "text/x-python",
   "name": "python",
   "nbconvert_exporter": "python",
   "pygments_lexer": "ipython3",
   "version": "3.8.9"
  }
 },
 "nbformat": 4,
 "nbformat_minor": 2
}
